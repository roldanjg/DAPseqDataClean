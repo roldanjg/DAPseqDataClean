{
 "cells": [
  {
   "cell_type": "code",
   "execution_count": 1,
   "metadata": {},
   "outputs": [
    {
     "name": "stdout",
     "output_type": "stream",
     "text": [
      "replicate3 MYC3/amplified/6/Mock MISSING\n",
      "replicate2 MYCH7/direct/24/Mock MISSING\n"
     ]
    }
   ],
   "source": [
    "import json\n",
    "import os\n",
    "import shutil\n",
    "import subprocess\n",
    "import tempfile\n",
    "import glob\n",
    "import pandas as pd\n",
    "from functools import reduce\n",
    "import re\n",
    "import pandas as pd\n",
    "import time\n",
    "import seaborn as sns\n",
    "import math\n",
    "from getReplicatesDataFrameDapFromPeaks import generateReplicatesOrder, generateMeanReplicatesDf\n",
    "\n",
    "replicatesDict = generateReplicatesOrder()\n",
    "myc3df = generateMeanReplicatesDf('MYC3', replicatesDict)"
   ]
  },
  {
   "cell_type": "markdown",
   "metadata": {},
   "source": [
    "DIRECT/AMPLIFIED"
   ]
  },
  {
   "cell_type": "code",
   "execution_count": 4,
   "metadata": {},
   "outputs": [
    {
     "name": "stdout",
     "output_type": "stream",
     "text": [
      "MYC31Mock 1.13\n",
      "MYC36Mock 2.05\n",
      "MYC324Mock 1.34\n",
      "MYC31ACC 1.25\n",
      "MYC36ACC 1.51\n",
      "MYC324ACC 1.41\n",
      "MYC31JA 1.19\n",
      "MYC36JA 1.61\n",
      "MYC324JA 1.64\n"
     ]
    }
   ],
   "source": [
    "dfclasification = [('MYC31Mockdirectsample', 'MYC31Mockamplifiedsample'),\n",
    " ('MYC36Mockdirectsample', 'MYC36Mockamplifiedsample'),\n",
    " ('MYC324Mockdirectsample', 'MYC324Mockamplifiedsample'),\n",
    " ('MYC31ACCdirectsample', 'MYC31ACCamplifiedsample'),\n",
    " ('MYC36ACCdirectsample','MYC36ACCamplifiedsample'),\n",
    " ('MYC324ACCdirectsample', 'MYC324ACCamplifiedsample'),\n",
    " ('MYC31JAdirectsample', 'MYC31JAamplifiedsample'),\n",
    " ('MYC36JAdirectsample', 'MYC36JAamplifiedsample'),\n",
    " ('MYC324JAdirectsample','MYC324JAamplifiedsample'),\n",
    " ]\n",
    "df_plot = myc3df.drop(columns=[\"star\", \"chr\", \"end\"])\n",
    "df_plot = df_plot.set_index('id')\n",
    "df_plot = df_plot.applymap(lambda v: v+0.5)\n",
    "for (direct,amplified) in dfclasification:\n",
    "    \n",
    "    df_plot[direct[:-12]] = df_plot[direct]/df_plot[amplified]\n",
    "    df_plot = df_plot.drop(columns=[direct,amplified])\n",
    "for col in df_plot.columns:\n",
    "    print(col, round(df_plot[col].mean(),2))"
   ]
  },
  {
   "cell_type": "code",
   "execution_count": null,
   "metadata": {},
   "outputs": [],
   "source": [
    "img = sns.heatmap(df_plot, cmap=\"YlGnBu\", robust=True)"
   ]
  },
  {
   "cell_type": "markdown",
   "metadata": {},
   "source": [
    "DIRECT"
   ]
  },
  {
   "cell_type": "code",
   "execution_count": 5,
   "metadata": {},
   "outputs": [
    {
     "name": "stdout",
     "output_type": "stream",
     "text": [
      "MYC31Mockdirectsample 16.74\n",
      "MYC36Mockdirectsample 16.74\n",
      "MYC324Mockdirectsample 16.74\n",
      "MYC31ACCdirectsample 16.74\n",
      "MYC36ACCdirectsample 16.74\n",
      "MYC324ACCdirectsample 16.74\n",
      "MYC31JAdirectsample 16.74\n",
      "MYC36JAdirectsample 16.74\n",
      "MYC324JAdirectsample 16.74\n"
     ]
    }
   ],
   "source": [
    "dfclasification = ['MYC31Mockdirectsample',\n",
    "                   'MYC36Mockdirectsample',\n",
    "                   'MYC324Mockdirectsample',\n",
    "                   'MYC31ACCdirectsample',\n",
    "                   'MYC36ACCdirectsample',\n",
    "                   'MYC324ACCdirectsample',\n",
    "                   'MYC31JAdirectsample', \n",
    "                    'MYC36JAdirectsample',\n",
    "                   'MYC324JAdirectsample'\n",
    "                   ]\n",
    "df_plot = myc3df.drop(columns=[\"star\", \"chr\", \"end\"])\n",
    "df_plot = df_plot.set_index('id')\n",
    "df_plot = df_plot[dfclasification]\n",
    "for col in df_plot.columns:\n",
    "    print(col, round(df_plot[col].mean(),2))"
   ]
  },
  {
   "cell_type": "code",
   "execution_count": null,
   "metadata": {},
   "outputs": [],
   "source": [
    "for col in df_plot.columns:\n",
    "    print(col, df_plot[col].max())"
   ]
  },
  {
   "cell_type": "code",
   "execution_count": null,
   "metadata": {},
   "outputs": [],
   "source": [
    "img = sns.heatmap(df_plot, cmap=\"YlGnBu\", robust=True)"
   ]
  },
  {
   "cell_type": "markdown",
   "metadata": {},
   "source": [
    "AMPLIFIED"
   ]
  },
  {
   "cell_type": "code",
   "execution_count": 7,
   "metadata": {},
   "outputs": [
    {
     "name": "stdout",
     "output_type": "stream",
     "text": [
      "MYC31Mockamplifiedsample 16.74\n",
      "MYC36Mockamplifiedsample 16.74\n",
      "MYC324Mockamplifiedsample 16.74\n",
      "MYC31JAamplifiedsample 16.74\n",
      "MYC36JAamplifiedsample 16.74\n",
      "MYC324JAamplifiedsample 16.74\n",
      "MYC31ACCamplifiedsample 16.74\n",
      "MYC36ACCamplifiedsample 16.74\n",
      "MYC324ACCamplifiedsample 16.74\n"
     ]
    }
   ],
   "source": [
    "dfclasification = ['MYC31Mockamplifiedsample','MYC36Mockamplifiedsample',\n",
    "                   'MYC324Mockamplifiedsample','MYC31JAamplifiedsample',\n",
    "                   'MYC36JAamplifiedsample','MYC324JAamplifiedsample',\n",
    "                   'MYC31ACCamplifiedsample','MYC36ACCamplifiedsample',\n",
    "                   'MYC324ACCamplifiedsample']\n",
    "\n",
    "df_plot = myc3df.drop(columns=[\"star\", \"chr\", \"end\"])\n",
    "df_plot = df_plot.set_index('id')\n",
    "df_plot = df_plot[dfclasification]\n",
    "for col in df_plot.columns:\n",
    "    print(col, round(df_plot[col].mean(),2))"
   ]
  },
  {
   "cell_type": "code",
   "execution_count": null,
   "metadata": {},
   "outputs": [],
   "source": [
    "img = sns.heatmap(df_plot, cmap=\"YlGnBu\", robust=True)"
   ]
  },
  {
   "cell_type": "code",
   "execution_count": null,
   "metadata": {},
   "outputs": [],
   "source": [
    "mycH7df = generateMeanReplicatesDf('MYCH7', replicatesDict)"
   ]
  },
  {
   "cell_type": "code",
   "execution_count": null,
   "metadata": {},
   "outputs": [],
   "source": [
    "dfclasification = [('MYCH71Mockdirectsample', 'MYCH71Mockamplifiedsample'),\n",
    " ('MYCH76Mockdirectsample', 'MYCH76Mockamplifiedsample'),\n",
    " ('MYCH724Mockdirectsample', 'MYCH724Mockamplifiedsample'),\n",
    " ('MYCH71ACCdirectsample', 'MYCH71ACCamplifiedsample'),\n",
    " ('MYCH76ACCdirectsample','MYCH76ACCamplifiedsample'),\n",
    " ('MYCH724ACCdirectsample', 'MYCH724ACCamplifiedsample'),\n",
    " ('MYCH71JAdirectsample', 'MYCH71JAamplifiedsample'),\n",
    " ('MYCH76JAdirectsample', 'MYCH76JAamplifiedsample'),\n",
    " ('MYCH724JAdirectsample','MYCH724JAamplifiedsample'),\n",
    " ]\n",
    "df_plot = mycH7df.drop(columns=[\"star\", \"chr\", \"end\"])\n",
    "df_plot = df_plot.set_index('id')\n",
    "df_plot = df_plot.applymap(lambda v: v+0.5)\n",
    "for (direct,amplified) in dfclasification:\n",
    "    \n",
    "    df_plot[direct[:-12]] = df_plot[direct]/df_plot[amplified]\n",
    "    df_plot = df_plot.drop(columns=[direct,amplified])\n",
    "for col in df_plot.columns:\n",
    "    print(col, df_plot[col].mean()*100)"
   ]
  },
  {
   "cell_type": "code",
   "execution_count": null,
   "metadata": {},
   "outputs": [],
   "source": [
    "dfclasification = ['MYCH71Mockdirectsample',\n",
    "                   'MYCH76Mockdirectsample',\n",
    "                   'MYCH724Mockdirectsample',\n",
    "                   'MYCH71ACCdirectsample',\n",
    "                   'MYCH76ACCdirectsample',\n",
    "                   'MYCH724ACCdirectsample',\n",
    "                   'MYCH71JAdirectsample', \n",
    "                    'MYCH76JAdirectsample',\n",
    "                   'MYCH724JAdirectsample'\n",
    "                   ]\n",
    "df_plot = mycH7df.drop(columns=[\"star\", \"chr\", \"end\"])\n",
    "df_plot = df_plot.set_index('id')\n",
    "df_plot = df_plot[dfclasification]\n",
    "for col in df_plot.columns:\n",
    "    print(col, df_plot[col].mean()*100)"
   ]
  },
  {
   "cell_type": "code",
   "execution_count": null,
   "metadata": {},
   "outputs": [],
   "source": [
    "dfclasification = ['MYCH71Mockamplifiedsample',\n",
    "                   'MYCH76Mockamplifiedsample',\n",
    "                   'MYCH724Mockamplifiedsample',\n",
    "                   'MYCH71ACCamplifiedsample',\n",
    "                   'MYCH76ACCamplifiedsample',\n",
    "                   'MYCH724ACCamplifiedsample',\n",
    "                   'MYCH71JAamplifiedsample', \n",
    "                    'MYCH76JAamplifiedsample',\n",
    "                   'MYCH724JAamplifiedsample'\n",
    "                   ]\n",
    "df_plot = mycH7df.drop(columns=[\"star\", \"chr\", \"end\"])\n",
    "df_plot = df_plot.set_index('id')\n",
    "df_plot = df_plot[dfclasification]\n",
    "for col in df_plot.columns:\n",
    "    print(col, df_plot[col].mean()*100)"
   ]
  }
 ],
 "metadata": {
  "kernelspec": {
   "display_name": "Python 3",
   "language": "python",
   "name": "python3"
  },
  "language_info": {
   "codemirror_mode": {
    "name": "ipython",
    "version": 3
   },
   "file_extension": ".py",
   "mimetype": "text/x-python",
   "name": "python",
   "nbconvert_exporter": "python",
   "pygments_lexer": "ipython3",
   "version": "3.7.12"
  }
 },
 "nbformat": 4,
 "nbformat_minor": 4
}
