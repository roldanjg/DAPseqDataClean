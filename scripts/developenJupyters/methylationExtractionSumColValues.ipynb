{
 "cells": [
  {
   "cell_type": "code",
   "execution_count": null,
   "metadata": {},
   "outputs": [],
   "source": [
    "import csv\n",
    "import gzip\n",
    "import time\n",
    "import os\n",
    "import pandas as pd\n",
    "import re\n",
    "from numpy import where as npwhere\n",
    "from functools import reduce\n",
    "\n",
    "def loadFileRemoveMts(replicate,replicaname):\n",
    "        bxdf = pd.read_csv(\n",
    "            replicate,\n",
    "            sep='\\t', \n",
    "            names=['chr', 'position', 'strand', replicaname+'mets', replicaname+'nomets', 'context', 'boxID', 'side'],\n",
    "            usecols=['chr', 'position', 'strand', 'boxID',replicaname+'mets', replicaname+'nomets', 'context']\n",
    "                )\n",
    "        bxdf.drop(bxdf[(bxdf.chr == 'Mt') | (bxdf.chr == 'Pt')].index, inplace=True)\n",
    "        \n",
    "        return bxdf\n",
    "# \n",
    "\n",
    "def sumReplicatesValues(bxdf, metsNames,nometsNames,experimentCondition):\n",
    "    bxdf[experimentCondition+'mets'] = bxdf[metsNames].sum(axis=1)\n",
    "    bxdf[experimentCondition+'nomets'] = bxdf[nometsNames].sum(axis=1)\n",
    "    print(metsNames + nometsNames)\n",
    "    bxdf = df_merged.drop(columns=metsNames + nometsNames)\n",
    "    return bxdf[bxdf[experimentCondition+'mets'] + bxdf[experimentCondition+'nomets'] >= 4]\n"
   ]
  },
  {
   "cell_type": "code",
   "execution_count": null,
   "metadata": {},
   "outputs": [],
   "source": [
    "working_folder = '/home/joaquin/projects/methylation/data/bisulfite_rep1_rep2_rep3/finalreps'\n",
    "intersection_file = '/home/joaquin/projects/methylation/data/commonData/arabidopsisThaliana/intersect/allThePossiblePeaksnine.bed'\n",
    "basedmrfolder = '/home/joaquin/projects/methylation/data/DMRs'\n",
    "experimentsClasification = {}\n",
    "for root, dirs, files in os.walk(working_folder):\n",
    "\n",
    "    for file in files:\n",
    "        if 'CX_report.txt.gz' in file:\n",
    "            replicate, hour, condition =root.strip().split('/')[-3:]\n",
    "            experimentName = hour+condition\n",
    "            experimentsClasification.setdefault(experimentName, [])\n",
    "            targetMetFilename = root+'/'+file\n",
    "            finalnamedestination = basedmrfolder+'/'+experimentName+replicate+'_CX_report.txt.gz'\n",
    "            outputfile = targetMetFilename[:-3] + 'peakMets.tsv'\n",
    "            experimentsClasification[experimentName].append(outputfile)\n",
    "\n",
    "\n",
    "            "
   ]
  },
  {
   "cell_type": "code",
   "execution_count": null,
   "metadata": {},
   "outputs": [],
   "source": [
    "allthedata = []\n",
    "for experimentCondition in experimentsClasification:\n",
    "    listOfDfReplicatesPercentageOfMetCs = []\n",
    "    metsNames = []\n",
    "    nometsNames = []\n",
    "    listOfDfReplicatesCualitative = []\n",
    "    listOfNamesReplicates = []\n",
    "    for replicatePath in experimentsClasification[experimentCondition]:\n",
    "\n",
    "        replicaname =  experimentCondition+replicatePath.split('/')[-4]\n",
    "        replicateDf = loadFileRemoveMts(replicatePath,replicaname)\n",
    "        metsNames.append(replicaname+'mets')\n",
    "        nometsNames.append(replicaname+'nomets')\n",
    "\n",
    "#         listOfNamesReplicates.append(replicaname)\n",
    "        listOfDfReplicatesPercentageOfMetCs.append(replicateDf)\n",
    "\n",
    "        \n",
    "    df_merged = reduce(lambda  left,right: pd.merge(left,right,on=['chr','position', 'strand','context','boxID'],\n",
    "                                                how='outer'), listOfDfReplicatesPercentageOfMetCs).fillna(0)\n",
    "    print(df_merged)\n",
    "    df_merged = sumReplicatesValues(df_merged, metsNames,nometsNames,experimentCondition)\n",
    "\n",
    "    \n",
    "    allthedata.append(df_merged)\n",
    "finaldf = reduce(lambda  left,right: pd.merge(left,right,on=['chr','position', 'strand','context','boxID'],\n",
    "                                                how='outer'), allthedata).fillna(0)\n"
   ]
  },
  {
   "cell_type": "code",
   "execution_count": null,
   "metadata": {},
   "outputs": [],
   "source": [
    "peaksfile = '/home/joaquin/projects/methylation/data/commonData/arabidopsisThaliana/intersect/allThePossiblePeaksnine.bed'\n",
    "peaks = pd.read_csv(peaksfile, sep='\\t', names=['chrm','start','end','boxID'])\n",
    "for context in ['CHH','CHG','CG']:\n",
    "    df = finaldf[(finaldf['context'] == context)]\n",
    "    values = df.iloc[:,4:]\n",
    "    sumdf = values.groupby('boxID', as_index=False).sum()\n",
    "    peaks = peaks.merge(sumdf, on='boxID', how='outer')\n",
    "    peaks =peaks.fillna(0)\n",
    "    for experimentCondition in ['1Mock','6Mock','24Mock','1ACC','6ACC','24ACC','1JA','6JA','24JA']:\n",
    "        peaks[experimentCondition] = peaks[experimentCondition+'mets'] / (peaks[experimentCondition+'nomets'] + peaks[experimentCondition+'mets'])\n",
    "        peaks = peaks.drop(columns=[experimentCondition+'mets',experimentCondition+'nomets'])\n",
    "    peaks.to_csv(f'{context}_BSMet__sum_all_values_and_mean.tsv',sep='\\t', index=False)"
   ]
  },
  {
   "cell_type": "code",
   "execution_count": null,
   "metadata": {},
   "outputs": [],
   "source": [
    "finaldf"
   ]
  },
  {
   "cell_type": "code",
   "execution_count": null,
   "metadata": {},
   "outputs": [],
   "source": [
    "peaksfile = '/home/joaquin/projects/methylation/data/commonData/arabidopsisThaliana/intersect/allThePossiblePeaksnine.bed'\n",
    "peaks = pd.read_csv(peaksfile, sep='\\t', names=['chrm','start','end','boxID'])\n",
    "\n",
    "df = finaldf[(finaldf['context'] == 'CG')]\n",
    "values = df.iloc[:,4:]\n",
    "sumdf = values.groupby('boxID', as_index=False).sum()\n",
    "peaks = peaks.merge(sumdf, on='boxID', how='outer')\n",
    "peaks =peaks.fillna(0)\n",
    "for experimentCondition in ['1Mock','6Mock','24Mock','1ACC','6ACC','24ACC','1JA','6JA','24JA']:\n",
    "    peaks[experimentCondition] = peaks[experimentCondition+'mets'] / (peaks[experimentCondition+'nomets'] + peaks[experimentCondition+'mets'])\n",
    "    peaks = peaks.drop(columns=[experimentCondition+'mets',experimentCondition+'nomets'])\n",
    "# peaks.to_csv(f'non-CG_BSMet__sum_all_values_and_mean.tsv',sep='\\t', index=False)"
   ]
  },
  {
   "cell_type": "code",
   "execution_count": null,
   "metadata": {},
   "outputs": [],
   "source": [
    "peaks.iloc[:,4:]"
   ]
  },
  {
   "cell_type": "code",
   "execution_count": null,
   "metadata": {},
   "outputs": [],
   "source": [
    "# import matplotlib\n",
    "import matplotlib.pyplot as plt\n",
    "# import seaborn\n",
    "import seaborn as sns\n",
    "%matplotlib inline\n",
    "plotmatr = peaks.iloc[:,4:]\n",
    "plotmatr = plotmatr[(plotmatr >= 0.1).all(1)]\n",
    "plotmatr = plotmatr[(plotmatr <= 0.9).all(1)]\n",
    "bplot = sns.boxplot(data=plotmatr, \n",
    "                 width=0.5,\n",
    "                 palette=\"colorblind\")"
   ]
  },
  {
   "cell_type": "code",
   "execution_count": null,
   "metadata": {},
   "outputs": [],
   "source": [
    "plot_file_name=\"boxplot_and_swarmplot_with_seaborn.jpg\"\n",
    " \n",
    "# save as jpeg\n",
    "bplot.figure.savefig('boxplot_Sincolas01_cg_context.jpg',\n",
    "                    format='jpeg',\n",
    "                    dpi=300)"
   ]
  },
  {
   "cell_type": "code",
   "execution_count": null,
   "metadata": {},
   "outputs": [],
   "source": []
  }
 ],
 "metadata": {
  "kernelspec": {
   "display_name": "Python 3",
   "language": "python",
   "name": "python3"
  },
  "language_info": {
   "codemirror_mode": {
    "name": "ipython",
    "version": 3
   },
   "file_extension": ".py",
   "mimetype": "text/x-python",
   "name": "python",
   "nbconvert_exporter": "python",
   "pygments_lexer": "ipython3",
   "version": "3.7.12"
  }
 },
 "nbformat": 4,
 "nbformat_minor": 4
}
