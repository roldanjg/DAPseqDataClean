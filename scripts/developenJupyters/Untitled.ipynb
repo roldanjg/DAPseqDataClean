{
 "cells": [
  {
   "cell_type": "code",
   "execution_count": 1,
   "metadata": {},
   "outputs": [],
   "source": [
    "file = '/home/joaquin/projects/methylation/data/bigwigs/summaryMultipleRep/methylationExperiments/MYC3direct1Mock.tab'\n",
    "with open(file) as f:\n",
    "    first_line = f.readline()"
   ]
  },
  {
   "cell_type": "code",
   "execution_count": 16,
   "metadata": {},
   "outputs": [
    {
     "name": "stdout",
     "output_type": "stream",
     "text": [
      "\n"
     ]
    }
   ],
   "source": [
    "z\n",
    "# maemia.append(ole[1:-1] for ole in loco)\n",
    "\n",
    "print()"
   ]
  },
  {
   "cell_type": "code",
   "execution_count": 17,
   "metadata": {},
   "outputs": [
    {
     "data": {
      "text/plain": [
       "['chr', 'start', 'end', 'rep1', 'rep2', 'rep3']"
      ]
     },
     "execution_count": 17,
     "metadata": {},
     "output_type": "execute_result"
    }
   ],
   "source": [
    "maemia"
   ]
  },
  {
   "cell_type": "code",
   "execution_count": 34,
   "metadata": {},
   "outputs": [],
   "source": [
    "import pandas as pd\n",
    "meansummaryDf = pd.read_csv(file, sep='\\t', header=0, names=maemia, dtype={'chr':str})\n",
    "meansummaryDf.drop(meansummaryDf[(meansummaryDf.chr == 'Mt') | (meansummaryDf.chr == 'Pt')].index, inplace=True)\n",
    "meansummaryDf['average'] = meansummaryDf[['rep1', 'rep2', 'rep3']].mean(axis=1)\n",
    "meansummaryDf.drop(columns=['rep1', 'rep2', 'rep3'], inplace=True)\n",
    "meansummaryDf['chr'] = pd.to_numeric(meansummaryDf['chr'])\n",
    "plottingDataFrame = meansummaryDf.sort_values(['chr','start'])"
   ]
  },
  {
   "cell_type": "code",
   "execution_count": 27,
   "metadata": {
    "scrolled": true
   },
   "outputs": [],
   "source": [
    "meansummaryDf.drop(meansummaryDf[(meansummaryDf.chr == 'Mt') | (meansummaryDf.chr == 'Pt')].index, inplace=True)\n",
    "plottingDataFrame['chr'] = pd.to_numeric(plottingDataFrame['chr'])\n",
    "plottingDataFrame['pos'] = pd.to_numeric(plottingDataFrame['pos'])\n",
    "plottingDataFrame = plottingDataFrame.sort_values(['chr','pos'])"
   ]
  },
  {
   "cell_type": "code",
   "execution_count": 36,
   "metadata": {},
   "outputs": [
    {
     "data": {
      "text/html": [
       "<div>\n",
       "<style scoped>\n",
       "    .dataframe tbody tr th:only-of-type {\n",
       "        vertical-align: middle;\n",
       "    }\n",
       "\n",
       "    .dataframe tbody tr th {\n",
       "        vertical-align: top;\n",
       "    }\n",
       "\n",
       "    .dataframe thead th {\n",
       "        text-align: right;\n",
       "    }\n",
       "</style>\n",
       "<table border=\"1\" class=\"dataframe\">\n",
       "  <thead>\n",
       "    <tr style=\"text-align: right;\">\n",
       "      <th></th>\n",
       "      <th>chr</th>\n",
       "      <th>start</th>\n",
       "      <th>end</th>\n",
       "      <th>average</th>\n",
       "    </tr>\n",
       "  </thead>\n",
       "  <tbody>\n",
       "    <tr>\n",
       "      <th>0</th>\n",
       "      <td>5</td>\n",
       "      <td>0</td>\n",
       "      <td>10</td>\n",
       "      <td>0.182991</td>\n",
       "    </tr>\n",
       "    <tr>\n",
       "      <th>1</th>\n",
       "      <td>5</td>\n",
       "      <td>10</td>\n",
       "      <td>20</td>\n",
       "      <td>0.216391</td>\n",
       "    </tr>\n",
       "    <tr>\n",
       "      <th>2</th>\n",
       "      <td>5</td>\n",
       "      <td>20</td>\n",
       "      <td>30</td>\n",
       "      <td>0.295189</td>\n",
       "    </tr>\n",
       "    <tr>\n",
       "      <th>3</th>\n",
       "      <td>5</td>\n",
       "      <td>30</td>\n",
       "      <td>40</td>\n",
       "      <td>0.470317</td>\n",
       "    </tr>\n",
       "    <tr>\n",
       "      <th>4</th>\n",
       "      <td>5</td>\n",
       "      <td>40</td>\n",
       "      <td>50</td>\n",
       "      <td>0.592163</td>\n",
       "    </tr>\n",
       "    <tr>\n",
       "      <th>...</th>\n",
       "      <td>...</td>\n",
       "      <td>...</td>\n",
       "      <td>...</td>\n",
       "      <td>...</td>\n",
       "    </tr>\n",
       "    <tr>\n",
       "      <th>11966773</th>\n",
       "      <td>2</td>\n",
       "      <td>19698240</td>\n",
       "      <td>19698250</td>\n",
       "      <td>13.110100</td>\n",
       "    </tr>\n",
       "    <tr>\n",
       "      <th>11966774</th>\n",
       "      <td>2</td>\n",
       "      <td>19698250</td>\n",
       "      <td>19698260</td>\n",
       "      <td>10.621438</td>\n",
       "    </tr>\n",
       "    <tr>\n",
       "      <th>11966775</th>\n",
       "      <td>2</td>\n",
       "      <td>19698260</td>\n",
       "      <td>19698270</td>\n",
       "      <td>8.213488</td>\n",
       "    </tr>\n",
       "    <tr>\n",
       "      <th>11966776</th>\n",
       "      <td>2</td>\n",
       "      <td>19698270</td>\n",
       "      <td>19698280</td>\n",
       "      <td>5.651903</td>\n",
       "    </tr>\n",
       "    <tr>\n",
       "      <th>11966777</th>\n",
       "      <td>2</td>\n",
       "      <td>19698280</td>\n",
       "      <td>19698289</td>\n",
       "      <td>2.665997</td>\n",
       "    </tr>\n",
       "  </tbody>\n",
       "</table>\n",
       "<p>11914637 rows × 4 columns</p>\n",
       "</div>"
      ],
      "text/plain": [
       "          chr     start       end    average\n",
       "0           5         0        10   0.182991\n",
       "1           5        10        20   0.216391\n",
       "2           5        20        30   0.295189\n",
       "3           5        30        40   0.470317\n",
       "4           5        40        50   0.592163\n",
       "...       ...       ...       ...        ...\n",
       "11966773    2  19698240  19698250  13.110100\n",
       "11966774    2  19698250  19698260  10.621438\n",
       "11966775    2  19698260  19698270   8.213488\n",
       "11966776    2  19698270  19698280   5.651903\n",
       "11966777    2  19698280  19698289   2.665997\n",
       "\n",
       "[11914637 rows x 4 columns]"
      ]
     },
     "execution_count": 36,
     "metadata": {},
     "output_type": "execute_result"
    }
   ],
   "source": [
    "meansummaryDf"
   ]
  },
  {
   "cell_type": "code",
   "execution_count": 28,
   "metadata": {},
   "outputs": [],
   "source": [
    "meansummaryDf.to_csv(file[:-4] + '.bedgraph', sep='\\t', index=False)"
   ]
  },
  {
   "cell_type": "code",
   "execution_count": null,
   "metadata": {},
   "outputs": [],
   "source": []
  }
 ],
 "metadata": {
  "kernelspec": {
   "display_name": "Python 3",
   "language": "python",
   "name": "python3"
  },
  "language_info": {
   "codemirror_mode": {
    "name": "ipython",
    "version": 3
   },
   "file_extension": ".py",
   "mimetype": "text/x-python",
   "name": "python",
   "nbconvert_exporter": "python",
   "pygments_lexer": "ipython3",
   "version": "3.7.12"
  }
 },
 "nbformat": 4,
 "nbformat_minor": 4
}
