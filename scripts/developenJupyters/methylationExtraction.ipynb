{
 "cells": [
  {
   "cell_type": "code",
   "execution_count": 1,
   "metadata": {},
   "outputs": [],
   "source": [
    "import csv\n",
    "import gzip\n",
    "import time\n",
    "import os\n",
    "import pandas as pd\n",
    "import re\n",
    "from numpy import where as npwhere\n",
    "from functools import reduce\n",
    "\n",
    "def mapMethytilatedCitosine(metfile,intersection_file_path,output_file_path):\n",
    "    chrs_data = {}\n",
    "    with gzip.open(metfile, 'rt') as f:\n",
    "        for line in f:\n",
    "            chr_index = line.split('\\t')[0]\n",
    "            coordinate_index = int(line.split('\\t')[1])\n",
    "            try:\n",
    "                chrs_data[chr_index][coordinate_index] = line[:-5]\n",
    "            except:\n",
    "                chrs_data[chr_index] = {coordinate_index:line[:-5]}\n",
    "\n",
    "    with open(intersection_file_path) as f:\n",
    "        reader = csv.reader(f, delimiter='\\t')\n",
    "        data = list(reader)\n",
    "\n",
    "    with open(output_file_path, 'a+') as whateverBox:\n",
    "        for each_box in data:\n",
    "            box_areas = {}\n",
    "            box_start = int(each_box[1])\n",
    "            box_end = int(each_box[2])\n",
    "            chr_location = each_box[0]\n",
    "            sequence_identifier = each_box[3]\n",
    "            # tenemos que aplicar rango desde una posicion inicial porque es un archivo 0 based, si fuese 1 based el rango estaría mal y tendria que restarle\n",
    "            # uno al archivo al box start\n",
    "            box_areas['box'] = list(range(box_start, box_end))\n",
    "\n",
    "            for boxarea in box_areas:\n",
    "                for coordinate in box_areas[boxarea]:\n",
    "                    matchline = chrs_data[chr_location].get(coordinate, False)\n",
    "                    if matchline:\n",
    "                        whateverBox.write('{}\\t{}\\t{}\\n'.format(matchline, sequence_identifier, boxarea))\n",
    "                        \n",
    "\n",
    "def loadFileRemoveMtsAndLowMetReport(replicate):\n",
    "        bxdf = pd.read_csv(\n",
    "            replicate,\n",
    "            sep='\\t', \n",
    "            names=['chr', 'position', 'strand', 'mets', 'nomets', 'context', 'boxID', 'side'],\n",
    "            usecols=['chr', 'position', 'strand', 'boxID','mets', 'nomets', 'context']\n",
    "                )\n",
    "        bxdf.drop(bxdf[(bxdf.chr == 'Mt') | (bxdf.chr == 'Pt')].index, inplace=True)\n",
    "        bxdf = bxdf[bxdf['mets'] + bxdf['nomets'] >= 4]\n",
    "        return bxdf\n",
    "\n",
    "def calculateValueAsPercentageOfMetCs(replicatedf,replicanamedf):\n",
    "    replicatedf[replicanamedf] = replicatedf['mets'] / (replicatedf['nomets'] + replicatedf['mets'])\n",
    "    replicatedf = replicatedf.drop(columns=['mets','nomets'])\n",
    "    return replicatedf\n",
    "def calculateValueAsCualitative(replicatedf,replicanamedf):\n",
    "    \"\"\"only zero or one, meaning one that there is methylation\"\"\"\n",
    "    replicatedf[replicanamedf] = npwhere(replicatedf['mets']>replicatedf['nomets'], 1, 0)\n",
    "    replicatedf = replicatedf.drop(columns=['mets','nomets'])\n",
    "    return replicatedf"
   ]
  },
  {
   "cell_type": "code",
   "execution_count": null,
   "metadata": {},
   "outputs": [],
   "source": [
    "import shutil\n",
    "def movetofolderallthefiles(origin, destinationfolder):\n",
    "    shutil.copy2(origin, destinationfolder)"
   ]
  },
  {
   "cell_type": "code",
   "execution_count": 2,
   "metadata": {},
   "outputs": [],
   "source": [
    "working_folder = '/home/joaquin/projects/methylation/data/bisulfite_rep1_rep2_rep3/finalreps'\n",
    "intersection_file = '/home/joaquin/projects/methylation/data/commonData/arabidopsisThaliana/intersect/allThePossiblePeaksnine.bed'\n",
    "basedmrfolder = '/home/joaquin/projects/methylation/data/DMRs'\n",
    "experimentsClasification = {}\n",
    "for root, dirs, files in os.walk(working_folder):\n",
    "\n",
    "    for file in files:\n",
    "        if 'CX_report.txt.gz' in file:\n",
    "            replicate, hour, condition =root.strip().split('/')[-3:]\n",
    "            experimentName = hour+condition\n",
    "            experimentsClasification.setdefault(experimentName, [])\n",
    "            targetMetFilename = root+'/'+file\n",
    "            finalnamedestination = basedmrfolder+'/'+experimentName+replicate+'_CX_report.txt.gz'\n",
    "            outputfile = targetMetFilename[:-3] + 'peakMets.tsv'\n",
    "            experimentsClasification[experimentName].append(outputfile)\n",
    "#             print(outputfile)\n",
    "#             mapMethytilatedCitosine(targetMetFilename,intersection_file,outputfile)\n",
    "\n",
    "            "
   ]
  },
  {
   "cell_type": "code",
   "execution_count": 3,
   "metadata": {},
   "outputs": [],
   "source": [
    "allthedata = []\n",
    "for experimentCondition in experimentsClasification:\n",
    "    listOfDfReplicatesPercentageOfMetCs = []\n",
    "    listOfDfReplicatesCualitative = []\n",
    "    listOfNamesReplicates = []\n",
    "    for replicatePath in experimentsClasification[experimentCondition]:\n",
    "\n",
    "        replicaname =  experimentCondition+replicatePath.split('/')[-4]\n",
    "        replicateDf = loadFileRemoveMtsAndLowMetReport(replicatePath)\n",
    "\n",
    "        replicateDfPercentageOfMetCs = calculateValueAsPercentageOfMetCs(replicateDf,replicaname)\n",
    "\n",
    "#         replicateDfCualitative = calculateValueAsCualitative(replicateDf,replicaname)\n",
    "#         print(replicateDfCualitative)\n",
    "        listOfNamesReplicates.append(replicaname)\n",
    "        listOfDfReplicatesPercentageOfMetCs.append(replicateDfPercentageOfMetCs)\n",
    "#         listOfDfReplicatesCualitative.append(replicateDfCualitative)\n",
    "        \n",
    "    df_merged = reduce(lambda  left,right: pd.merge(left,right,on=['chr','position', 'strand','context','boxID'],\n",
    "                                                how='outer'), listOfDfReplicatesPercentageOfMetCs).fillna(0)\n",
    "    df_merged[experimentCondition] = df_merged[listOfNamesReplicates].mean(axis=1)\n",
    "    df_merged = df_merged.drop(columns=listOfNamesReplicates)\n",
    "    allthedata.append(df_merged)\n",
    "finaldf = reduce(lambda  left,right: pd.merge(left,right,on=['chr','position', 'strand','context','boxID'],\n",
    "                                                how='outer'), allthedata).fillna(0)"
   ]
  },
  {
   "cell_type": "code",
   "execution_count": null,
   "metadata": {},
   "outputs": [],
   "source": [
    "finaldf.to_csv('bisulfite.tsv',sep='\\t', index=False)"
   ]
  },
  {
   "cell_type": "code",
   "execution_count": null,
   "metadata": {},
   "outputs": [],
   "source": [
    "finaldf.to_csv('bisulfite.tsv',sep='\\t', index=False)\n",
    "CGdf = finaldf[(finaldf['context'] == 'CG')]"
   ]
  },
  {
   "cell_type": "code",
   "execution_count": null,
   "metadata": {},
   "outputs": [],
   "source": [
    "\n",
    "finaldf = finaldf[['chr','position','strand','context','boxID','1Mock','1JA','1ACC','6Mock','6JA','6ACC','24Mock','24JA','24ACC']]\n"
   ]
  },
  {
   "cell_type": "code",
   "execution_count": null,
   "metadata": {},
   "outputs": [],
   "source": [
    "finaldf"
   ]
  },
  {
   "cell_type": "code",
   "execution_count": null,
   "metadata": {},
   "outputs": [],
   "source": [
    "\n",
    "CGdf = finaldf[(finaldf['context'] == 'CG')]\n",
    "CHHdf = finaldf[(finaldf['context'] == 'CHH')]\n",
    "CHGdf = finaldf[(finaldf['context'] == 'CHG')]\n",
    "\n",
    "CGdf.to_csv('CG_BSMet.tsv',sep='\\t', index=False)\n",
    "\n",
    "CHGdf.to_csv('CHG_BSMet.tsv',sep='\\t', index=False)\n",
    "\n",
    "CHHdf.to_csv('CHH_BSMet.tsv',sep='\\t', index=False)"
   ]
  },
  {
   "cell_type": "code",
   "execution_count": null,
   "metadata": {},
   "outputs": [],
   "source": [
    "CGdf"
   ]
  },
  {
   "cell_type": "code",
   "execution_count": null,
   "metadata": {},
   "outputs": [],
   "source": [
    "CGdf"
   ]
  },
  {
   "cell_type": "code",
   "execution_count": null,
   "metadata": {},
   "outputs": [],
   "source": [
    "import pandas as pd\n",
    "import seaborn as sns\n",
    "import math\n",
    "# CGdf = CGdf.drop(columns=['chr','position', 'strand','context','boxID'])\n",
    "# CGdf = CGdf.set_index()\n",
    "\n",
    "# "
   ]
  },
  {
   "cell_type": "code",
   "execution_count": null,
   "metadata": {},
   "outputs": [],
   "source": [
    "CGdf = CGdf[['1Mock','6Mock','24Mock','1ACC','6ACC','24ACC','1JA','6JA','24JA']]\n"
   ]
  },
  {
   "cell_type": "code",
   "execution_count": null,
   "metadata": {},
   "outputs": [],
   "source": [
    "sns.heatmap(CGdf, cmap=\"mako\")"
   ]
  },
  {
   "cell_type": "code",
   "execution_count": null,
   "metadata": {},
   "outputs": [],
   "source": [
    "import matplotlib.pyplot as plt\n",
    "fig, ax = plt.subplots(figsize=(10,20))         # Sample figsize in inches\n",
    "sns.heatmap(CGdf, cmap=\"tab10\", ax=ax)\n",
    "# sns.set_context(\"notebook\", font_scale=1.75, rc={\"lines.linewidth\": 2.5, 'font.family':'Helvetica'})\n",
    "# sns.heatmap(CGdf, cmap=\"tab10\")"
   ]
  },
  {
   "cell_type": "code",
   "execution_count": null,
   "metadata": {},
   "outputs": [],
   "source": [
    "Sinmenosde1 = CGdf[(CGdf >= 0.01).all(1)]\n",
    "fig, ax = plt.subplots(figsize=(10,20)) # Sample figsize in inches\n",
    "sns.heatmap(Sinmenosde1, cmap=\"tab10\", ax=ax)\n"
   ]
  },
  {
   "cell_type": "code",
   "execution_count": null,
   "metadata": {},
   "outputs": [],
   "source": [
    "sns.set_context(\"paper\", font_scale=1.75, rc={\"lines.linewidth\": 2.5, 'font.family':'Helvetica'})\n",
    "fig, ax = plt.subplots(figsize=(10,30))         # Sample figsize in inches\n",
    "sns.heatmap(Sinmenosde1, cmap=\"mako\", ax=ax)"
   ]
  },
  {
   "cell_type": "code",
   "execution_count": null,
   "metadata": {},
   "outputs": [],
   "source": [
    "Sinmenosde1"
   ]
  },
  {
   "cell_type": "code",
   "execution_count": null,
   "metadata": {},
   "outputs": [],
   "source": [
    "for col in ['1Mock','6Mock','24Mock','1ACC','6ACC','24ACC','1JA','6JA','24JA']:\n",
    "    print(col, CGdf[col].mean()*100)"
   ]
  },
  {
   "cell_type": "code",
   "execution_count": null,
   "metadata": {},
   "outputs": [],
   "source": [
    "CHHdf = finaldf[(finaldf['context'] == 'CHH')]\n",
    "for col in ['1Mock','6Mock','24Mock','1ACC','6ACC','24ACC','1JA','6JA','24JA']:\n",
    "    print(col, CHHdf[col].mean()*100)"
   ]
  },
  {
   "cell_type": "code",
   "execution_count": null,
   "metadata": {},
   "outputs": [],
   "source": [
    "CHGdf = finaldf[(finaldf['context'] == 'CHG')]\n",
    "for col in ['1Mock','6Mock','24Mock','1ACC','6ACC','24ACC','1JA','6JA','24JA']:\n",
    "    print(col, CHGdf[col].mean()*100)"
   ]
  },
  {
   "cell_type": "code",
   "execution_count": null,
   "metadata": {},
   "outputs": [],
   "source": [
    "def mergeResultsMets(folder):\n",
    "    with cd('/home/joaquin/projects/methylation/data/bisulfite_rep1_rep2/reports/'):\n",
    "        file_names = os.listdir()\n",
    "        for rep in ['rep1', 'rep2']:\n",
    "            for side in ['.motif.', 'motifSide']:\n",
    "                for metcontex in ['CG', 'CHG', 'CHH']:\n",
    "                    for box in ['G_box', 'GAC_box', 'PBE_box', 'GCC_box', 'TG_box']:\n",
    "                        boxfiles = []\n",
    "                        for file in file_names:\n",
    "                            # print(file_names)\n",
    "                            # print('hello')\n",
    "                            if rep in file and side in file and metcontex in file and file.startswith(box):\n",
    "                                # print('hello')\n",
    "                                if '_merged_intersect.csv' not in file:\n",
    "                                    boxfiles.append(file)\n",
    "                        # print(boxfiles)\n",
    "                        \n",
    "                        if box + rep + side + metcontex + '_merged_intersect.csv' in file_names:\n",
    "                            experiment1df = pd.read_csv(box + rep + side + metcontex + '_merged_intersect.csv')\n",
    "                            experiment2df = pd.read_csv(boxfiles[0])\n",
    "                            mergedDf = experiment1df.merge(experiment2df, on=['chr', 'position', 'strand','boxID'], how='outer')\n",
    "                            mergedDf.to_csv(box + rep + side + metcontex + '_merged_intersect.csv', index=False)\n",
    "                            os.remove(boxfiles[0])\n",
    "                        elif len(boxfiles) == 2:\n",
    "                            # print('hello')\n",
    "                            experiment1df = pd.read_csv(boxfiles[0])\n",
    "                            experiment2df = pd.read_csv(boxfiles[1])\n",
    "                            # print(experiment1df)\n",
    "                            mergedDf = experiment1df.merge(experiment2df, on=['chr', 'position', 'strand','boxID'], how='outer')\n",
    "                            mergedDf.to_csv(box + rep + side + metcontex + '_merged_intersect.csv', index=False)\n",
    "                            os.remove(boxfiles[0])\n",
    "                            os.remove(boxfiles[1])\n"
   ]
  },
  {
   "cell_type": "code",
   "execution_count": null,
   "metadata": {},
   "outputs": [],
   "source": [
    "\n",
    "\n"
   ]
  },
  {
   "cell_type": "code",
   "execution_count": null,
   "metadata": {},
   "outputs": [],
   "source": [
    "peaks"
   ]
  },
  {
   "cell_type": "code",
   "execution_count": 4,
   "metadata": {},
   "outputs": [],
   "source": [
    "import pandas as pd \n",
    "peaksfile = '/home/joaquin/projects/methylation/data/commonData/arabidopsisThaliana/intersect/allThePossiblePeaksnine.bed'\n",
    "\n",
    "peaks = pd.read_csv(peaksfile, sep='\\t', names=['chrm','start','end','boxID'])\n",
    "def getpositions(x):\n",
    "    chrm, center = x.strip().split(':')\n",
    "    return chrm, int(center)-100, int(center)+101\n",
    "df  = finaldf[(finaldf['context'] != 'CHG')]\n",
    "metadata = df.iloc[:,4:5]\n",
    "values = df.iloc[:,5:]\n",
    "values = values.loc[(values!=0).any(axis=1)]\n",
    "merged = metadata.merge(values, left_index=True, right_index=True, how='inner')\n",
    "meandf = merged.groupby('boxID', as_index=False).mean()\n",
    "peaks = peaks.merge(meandf, on='boxID', how='outer')\n",
    "peaks =peaks.fillna(0)\n",
    "\n",
    "# peaks.to_csv('CG_BSMet_mean.tsv',sep='\\t', index=False)\n",
    "\n",
    "# peaks.to_csv('CHG_BSMet_mean.tsv',sep='\\t', index=False)\n",
    "\n",
    "peaks.to_csv('non-CG_BSMetmean.tsv',sep='\\t', index=False)\n",
    "# meandf['chr'], meandf['start'], meandf['end'] =  zip(*meandf['boxID'].map(lambda x: getpositions(x)))"
   ]
  },
  {
   "cell_type": "code",
   "execution_count": null,
   "metadata": {},
   "outputs": [],
   "source": [
    "import pandas as pd \n",
    "peaksfile = '/home/joaquin/projects/methylation/data/commonData/arabidopsisThaliana/intersect/allThePossiblePeaksnine.bed'\n",
    "\n",
    "peaks = pd.read_csv(peaksfile, sep='\\t', names=['chrm','start','end','boxID'])\n",
    "def getpositions(x):\n",
    "    chrm, center = x.strip().split(':')\n",
    "    return chrm, int(center)-100, int(center)+101\n",
    "df  = pd.read_csv('CG_BSMet.tsv', sep='\\t')\n"
   ]
  },
  {
   "cell_type": "code",
   "execution_count": null,
   "metadata": {},
   "outputs": [],
   "source": [
    "df\n"
   ]
  },
  {
   "cell_type": "code",
   "execution_count": null,
   "metadata": {},
   "outputs": [],
   "source": [
    "metadata = df.iloc[:,4:5]\n",
    "values = df.iloc[:,5:]\n",
    "values = values.loc[(values!=0).any(axis=1)]\n",
    "merged = metadata.merge(values, left_index=True, right_index=True, how='inner')\n",
    "meandf = merged.groupby('boxID', as_index=False).mean()\n",
    "peaks = peaks.merge(meandf, on='boxID', how='outer')\n",
    "peaks =peaks.fillna(0)"
   ]
  },
  {
   "cell_type": "code",
   "execution_count": null,
   "metadata": {},
   "outputs": [],
   "source": [
    "\n"
   ]
  },
  {
   "cell_type": "code",
   "execution_count": null,
   "metadata": {},
   "outputs": [],
   "source": [
    "with pd.option_context('display.max_rows', None, 'display.max_columns', None):  # more options can be specified also\n",
    "    print(null_data)\n"
   ]
  }
 ],
 "metadata": {
  "kernelspec": {
   "display_name": "Python 3",
   "language": "python",
   "name": "python3"
  },
  "language_info": {
   "codemirror_mode": {
    "name": "ipython",
    "version": 3
   },
   "file_extension": ".py",
   "mimetype": "text/x-python",
   "name": "python",
   "nbconvert_exporter": "python",
   "pygments_lexer": "ipython3",
   "version": "3.7.12"
  },
  "vscode": {
   "interpreter": {
    "hash": "b311b5e2c1aaa04d48066871c65b4e8ce80fb760bb38a0437727056581097150"
   }
  }
 },
 "nbformat": 4,
 "nbformat_minor": 4
}
