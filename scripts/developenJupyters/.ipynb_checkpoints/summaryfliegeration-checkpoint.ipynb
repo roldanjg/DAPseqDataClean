{
 "cells": [
  {
   "cell_type": "code",
   "execution_count": null,
   "metadata": {},
   "outputs": [],
   "source": [
    "import re\n",
    "import time\n",
    "with open('colectAllOut.txt', 'r') as summary:\n",
    "    for line in summary:\n",
    "        if 'Doing Trim galore in' in line:\n",
    "            index_name = line.strip().split(' ')[-1]\n",
    "            representative_name = line.strip().split(' ')[-3]\n",
    "            print('------',index_name,'', representative_name)\n",
    "        if 'Bowtie2 errors if any' in line:\n",
    "            alignment = re.search(r\"b\\'(.*)\\'\", line)\n",
    "            aligment_result = alignment.group(1)\n",
    "            aligment_result = aligment_result.split('\\\\n')\n",
    "            with open('summaryCompact.txt', 'a+') as cleanedsummary:\n",
    "                cleanedsummary.write(\n",
    "                    f'-------{index_name}: {representative_name}-------\\n'\n",
    "                )\n",
    "                for infoline in aligment_result:\n",
    "                    if 'overall alignment rate'  in infoline:\n",
    "                        cleanedsummary.write(\n",
    "                        f'{infoline}\\n'\n",
    "                        )"
   ]
  },
  {
   "cell_type": "code",
   "execution_count": 1,
   "metadata": {},
   "outputs": [
    {
     "name": "stdout",
     "output_type": "stream",
     "text": [
      "------ Pool_JM1_INDEX39  Input/amplified/24/ACC\n",
      "------ Pool_JM1_INDEX27  MYC3/amplified/24/ACC\n",
      "------ Pool_JM1_INDEX28  MYCH7/amplified/24/ACC\n",
      "------ Pool_JM1_INDEX17  MYC3/direct/24/Mock\n",
      "------ JM4_INDEX_18  ERF1/direct/24/Mock\n",
      "------ JM4_INDEX_22  ERF1/direct/24/JA\n",
      "------ JM4_INDEX_26  ERF1/direct/24/ACC\n",
      "------ JM4_INDEX_20  ERF1/amplified/24/Mock\n",
      "------ JM4_INDEX_24  ERF1/amplified/24/JA\n",
      "------ JM4_INDEX_28  ERF1/amplified/24/ACC\n",
      "------ JM4_INDEX_13  ERF1/direct/1/Mock\n",
      "------ JM4_INDEX_14  ERF1/direct/1/JA\n",
      "------ JM4_INDEX_15  ERF1/direct/1/ACC\n",
      "------ JM4_INDEX_11  ERF1/amplified/1/Mock\n",
      "------ JM4_INDEX_17  ERF1/amplified/1/JA\n",
      "------ JM4_INDEX_12  ERF1/amplified/1/ACC\n",
      "------ JM4_INDEX_19  MYC3/JM4amplified/24/Mock\n",
      "------ JM4_INDEX_23  MYC3/JM4amplified/24/JA\n",
      "------ JM4_INDEX_25  MYC3/JM4direct/24/ACC\n",
      "------ JM4_INDEX_27  MYC3/JM4amplified/24/ACC\n"
     ]
    }
   ],
   "source": [
    "import re\n",
    "import time\n",
    "with open('developmentFiles/replicaone/collectAllEnd_to_End.txt', 'r') as summary:\n",
    "    for line in summary:\n",
    "        if 'Doing Trim galore in' in line:\n",
    "            index_name = line.strip().split(' ')[-1]\n",
    "            representative_name = line.strip().split(' ')[-3]\n",
    "            print('------',index_name,'', representative_name)\n",
    "        if 'Bowtie2 errors if any' in line:\n",
    "            alignment = re.search(r\"b\\'(.*)\\'\", line)\n",
    "            try:  \n",
    "                aligment_result = alignment.group(1)\n",
    "                aligment_result = aligment_result.split('\\\\n')\n",
    "                with open('summaryCompact_End_to_End.txt', 'a+') as cleanedsummary:\n",
    "                    cleanedsummary.write(\n",
    "                        f'-------{index_name}: {representative_name}-------\\n'\n",
    "                    )\n",
    "                    for infoline in aligment_result:\n",
    "                        if 'overall alignment rate'  in infoline:\n",
    "                            cleanedsummary.write(\n",
    "                            f'{infoline}\\n'\n",
    "                            )\n",
    "            except:\n",
    "                print(line)\n",
    "                "
   ]
  },
  {
   "cell_type": "code",
   "execution_count": 2,
   "metadata": {},
   "outputs": [
    {
     "name": "stdout",
     "output_type": "stream",
     "text": [
      "------ Pool_JM1_INDEX39  Input/amplified/24/ACC\n",
      "------ Pool_JM1_INDEX27  MYC3/amplified/24/ACC\n",
      "------ Pool_JM1_INDEX28  MYCH7/amplified/24/ACC\n",
      "------ Pool_JM1_INDEX17  MYC3/direct/24/Mock\n",
      "------ JM4_INDEX_18  ERF1/direct/24/Mock\n",
      "------ JM4_INDEX_22  ERF1/direct/24/JA\n",
      "------ JM4_INDEX_26  ERF1/direct/24/ACC\n",
      "------ JM4_INDEX_20  ERF1/amplified/24/Mock\n",
      "------ JM4_INDEX_24  ERF1/amplified/24/JA\n",
      "------ JM4_INDEX_28  ERF1/amplified/24/ACC\n",
      "------ JM4_INDEX_13  ERF1/direct/1/Mock\n",
      "------ JM4_INDEX_14  ERF1/direct/1/JA\n",
      "------ JM4_INDEX_15  ERF1/direct/1/ACC\n",
      "------ JM4_INDEX_11  ERF1/amplified/1/Mock\n",
      "------ JM4_INDEX_17  ERF1/amplified/1/JA\n",
      "------ JM4_INDEX_12  ERF1/amplified/1/ACC\n",
      "------ JM4_INDEX_19  MYC3/JM4amplified/24/Mock\n",
      "------ JM4_INDEX_23  MYC3/JM4amplified/24/JA\n",
      "------ JM4_INDEX_25  MYC3/JM4direct/24/ACC\n",
      "------ JM4_INDEX_27  MYC3/JM4amplified/24/ACC\n"
     ]
    }
   ],
   "source": [
    "import re\n",
    "import time\n",
    "with open('developmentFiles/replicaone/collectAllEnd_to_End.txt', 'r') as summary:\n",
    "    for line in summary:\n",
    "        if 'Doing Trim galore in' in line:\n",
    "            index_name = line.strip().split(' ')[-1]\n",
    "            representative_name = line.strip().split(' ')[-3]\n",
    "            print('------',index_name,'', representative_name)\n",
    "        if 'Bowtie2 errors if any' in line:\n",
    "            alignment = re.search(r\"b\\'(.*)\\'\", line)\n",
    "            try:  \n",
    "                aligment_result = alignment.group(1)\n",
    "                aligment_result = aligment_result.split('\\\\n')\n",
    "                with open('summaryCompact_End_to_End.txt', 'a+') as cleanedsummary:\n",
    "                    cleanedsummary.write(\n",
    "                        f'-------{index_name}: {representative_name}-------\\n'\n",
    "                    )\n",
    "                    for infoline in aligment_result:\n",
    "                        if 'overall alignment rate'  in infoline:\n",
    "                            cleanedsummary.write(\n",
    "                            f'{infoline}\\n'\n",
    "                            )\n",
    "                        if 'reads'  in infoline:\n",
    "                            cleanedsummary.write(\n",
    "                            f'{infoline}\\n'\n",
    "                            )\n",
    "                        \n",
    "            except:\n",
    "                print(line)\n",
    "                "
   ]
  },
  {
   "cell_type": "markdown",
   "metadata": {},
   "source": [
    "f"
   ]
  },
  {
   "cell_type": "code",
   "execution_count": 21,
   "metadata": {},
   "outputs": [
    {
     "name": "stdout",
     "output_type": "stream",
     "text": [
      "CompletedProcess(args='bowtie2 --phred33 --sensitive -t -p 40 -x /home/joaquin/projects/methylation/data/commonData/medicagoTruncatula/genome_index -1 INDEX2b_FKDL210227342-1a-2_HFVJ2CCX2_L6_1_val_1.fq.gz -2 INDEX2b_FKDL210227342-1a-2_HFVJ2CCX2_L6_2_val_2.fq.gz -S InputMedicago.sam', returncode=0, stdout=b'', stderr=b'Time loading reference: 00:00:00\\nTime loading forward index: 00:00:00\\nTime loading mirror index: 00:00:00\\nMultiseed full-index search: 00:10:21\\n26089587 reads; of these:\\n  26089587 (100.00%) were paired; of these:\\n    6392776 (24.50%) aligned concordantly 0 times\\n    10942377 (41.94%) aligned concordantly exactly 1 time\\n    8754434 (33.56%) aligned concordantly >1 times\\n    ----\\n    6392776 pairs aligned concordantly 0 times; of these:\\n      197036 (3.08%) aligned discordantly 1 time\\n    ----\\n    6195740 pairs aligned 0 times concordantly or discordantly; of these:\\n      12391480 mates make up the pairs; of these:\\n        9849475 (79.49%) aligned 0 times\\n        1360887 (10.98%) aligned exactly 1 time\\n        1181118 (9.53%) aligned >1 times\\n81.12% overall alignment rate\\nTime searching: 00:10:21\\nOverall time: 00:10:21\\n')\n",
      "26089587 81.12\n"
     ]
    }
   ],
   "source": [
    "import re\n",
    "filename = '/home/joaquin/projects/methylation/data/data_medicago/Input/Medicago/bowtie2stats.txt'\n",
    "\n",
    "with open(filename, 'r') as bowstats:\n",
    "    for line in bowstats:\n",
    "        print(line)\n",
    "        reads = re.search(r'([\\d]+) reads; of these:',line)\n",
    "        regular = re.search(r'([\\d,\\.]+)% overall alignment rate',line)\n",
    "        print(reads.group(1),regular.group(1))"
   ]
  },
  {
   "cell_type": "code",
   "execution_count": null,
   "metadata": {},
   "outputs": [],
   "source": []
  },
  {
   "cell_type": "code",
   "execution_count": 7,
   "metadata": {},
   "outputs": [
    {
     "name": "stdout",
     "output_type": "stream",
     "text": [
      "None None None None None\n",
      "Pool_JM1_INDEX39  Input/amplified/24/ACC 5864208 59.81 None\n",
      "Pool_JM1_INDEX27  MYC3/amplified/24/ACC 7787981 98.58 516\n",
      "Pool_JM1_INDEX28  MYCH7/amplified/24/ACC 4278568 98.33 693\n",
      "Pool_JM1_INDEX17  MYC3/direct/24/Mock 7328446 71.79 19417\n",
      "JM4_INDEX_18  ERF1/direct/24/Mock 1360869 90.63 446\n",
      "JM4_INDEX_22  ERF1/direct/24/JA 2025997 90.90 180\n",
      "JM4_INDEX_26  ERF1/direct/24/ACC 1596125 84.33 1032\n",
      "JM4_INDEX_24  ERF1/amplified/24/JA 2544071 97.30 1527\n",
      "JM4_INDEX_28  ERF1/amplified/24/ACC 1551568 51.45 1738\n",
      "JM4_INDEX_13  ERF1/direct/1/Mock 2535575 94.96 407\n",
      "JM4_INDEX_14  ERF1/direct/1/JA 1833643 81.47 706\n",
      "JM4_INDEX_15  ERF1/direct/1/ACC 1747017 78.38 551\n",
      "JM4_INDEX_11  ERF1/amplified/1/Mock 2508281 93.51 1672\n",
      "JM4_INDEX_17  ERF1/amplified/1/JA 2205366 67.74 583\n",
      "JM4_INDEX_12  ERF1/amplified/1/ACC 2749048 96.73 530\n",
      "JM4_INDEX_19  MYC3/JM4amplified/24/Mock 2867923 93.04 1038\n",
      "JM4_INDEX_20  ERF1/amplified/24/Mock None None None\n",
      "JM4_INDEX_23  MYC3/JM4amplified/24/JA 1883766 95.48 2970\n",
      "JM4_INDEX_25  MYC3/JM4direct/24/ACC 2721760 97.61 2942\n",
      "JM4_INDEX_27  MYC3/JM4amplified/24/ACC 2821924 95.04 622\n"
     ]
    },
    {
     "ename": "AttributeError",
     "evalue": "'NoneType' object has no attribute 'group'",
     "output_type": "error",
     "traceback": [
      "\u001b[1;31m---------------------------------------------------------------------------\u001b[0m",
      "\u001b[1;31mAttributeError\u001b[0m                            Traceback (most recent call last)",
      "\u001b[1;32m<ipython-input-7-fad02d0522b2>\u001b[0m in \u001b[0;36m<module>\u001b[1;34m\u001b[0m\n\u001b[0;32m     24\u001b[0m \u001b[1;33m\u001b[0m\u001b[0m\n\u001b[0;32m     25\u001b[0m             \u001b[0mname\u001b[0m \u001b[1;33m=\u001b[0m \u001b[0mre\u001b[0m\u001b[1;33m.\u001b[0m\u001b[0msearch\u001b[0m\u001b[1;33m(\u001b[0m\u001b[1;34mr\"-------(.*):(.*)-------\"\u001b[0m\u001b[1;33m,\u001b[0m \u001b[0mline\u001b[0m\u001b[1;33m)\u001b[0m\u001b[1;33m\u001b[0m\u001b[1;33m\u001b[0m\u001b[0m\n\u001b[1;32m---> 26\u001b[1;33m             \u001b[0mexperimentID\u001b[0m \u001b[1;33m=\u001b[0m \u001b[0mname\u001b[0m\u001b[1;33m.\u001b[0m\u001b[0mgroup\u001b[0m\u001b[1;33m(\u001b[0m\u001b[1;36m1\u001b[0m\u001b[1;33m)\u001b[0m\u001b[1;33m\u001b[0m\u001b[1;33m\u001b[0m\u001b[0m\n\u001b[0m\u001b[0;32m     27\u001b[0m             \u001b[0mexperimentName\u001b[0m \u001b[1;33m=\u001b[0m \u001b[0mname\u001b[0m\u001b[1;33m.\u001b[0m\u001b[0mgroup\u001b[0m\u001b[1;33m(\u001b[0m\u001b[1;36m2\u001b[0m\u001b[1;33m)\u001b[0m\u001b[1;33m\u001b[0m\u001b[1;33m\u001b[0m\u001b[0m\n\u001b[0;32m     28\u001b[0m \u001b[1;33m\u001b[0m\u001b[0m\n",
      "\u001b[1;31mAttributeError\u001b[0m: 'NoneType' object has no attribute 'group'"
     ]
    }
   ],
   "source": [
    "import re\n",
    "import time\n",
    "with open('summaryCompact_End_to_End.txt', 'r') as summary:\n",
    "    reads = None\n",
    "    overall = None\n",
    "    gem = None\n",
    "    experimentID = None\n",
    "    experimentName = None\n",
    "    with open('tableSummaryEnd_to_End.csv', 'a+') as table:\n",
    "        table.write('ID,Name,Reads,Total Alignment,Peaks Significant\\n')\n",
    "    for line in summary:\n",
    "        if '-------' in line:\n",
    "            \n",
    "            try:\n",
    "                print(experimentID, experimentName, reads, overall, gem)\n",
    "                with open('tableSummaryEnd_to_End.csv', 'a+') as table:\n",
    "                    table.write('{},{},{},{},{}\\n'.format(experimentID, experimentName, reads, overall, gem))\n",
    "                reads = None\n",
    "                overall = None\n",
    "                gem = None\n",
    "            except:\n",
    "                pass\n",
    "                \n",
    "                \n",
    "            name = re.search(r\"-------(.*):(.*)-------\", line)\n",
    "            experimentID = name.group(1)\n",
    "            experimentName = name.group(2)\n",
    "        \n",
    "        elif 'reads' in line:\n",
    "            reads = line.strip().split(' ')[0]\n",
    "        elif 'overall' in line:\n",
    "            overall = line.strip().split('%')[0]\n",
    "        elif 'GEM' in line:\n",
    "            gem = line.strip().split('\\t')[-1]\n",
    "        \n",
    "#         print(experimentID, experimentName, reads, overall, gem)\n",
    "#             index_name = line.strip().split(' ')[-1]\n",
    "#             representative_name = line.strip().split(' ')[-3]\n",
    "#             print('------',index_name,'', representative_name)\n",
    "#         if 'Bowtie2 errors if any' in line:\n",
    "#             alignment = re.search(r\"b\\'(.*)\\'\", line)\n",
    "#             try:  \n",
    "#                 aligment_result = alignment.group(1)\n",
    "#                 aligment_result = aligment_result.split('\\\\n')\n",
    "#                 with open('summaryreadsReplica1.txt', 'a+') as cleanedsummary:\n",
    "#                     cleanedsummary.write(\n",
    "#                         f'-------{index_name}: {representative_name}-------\\n'\n",
    "#                     )\n",
    "#                     for infoline in aligment_result:\n",
    "#                         if 'overall alignment rate'  in infoline:\n",
    "#                             cleanedsummary.write(\n",
    "#                             f'{infoline}\\n'\n",
    "#                             )\n",
    "#                         if 'reads'  in infoline:\n",
    "#                             cleanedsummary.write(\n",
    "#                             f'{infoline}\\n'\n",
    "#                             )\n",
    "                        \n",
    "#             except:\n",
    "#                 print(line)"
   ]
  }
 ],
 "metadata": {
  "kernelspec": {
   "display_name": "Python 3",
   "language": "python",
   "name": "python3"
  },
  "language_info": {
   "codemirror_mode": {
    "name": "ipython",
    "version": 3
   },
   "file_extension": ".py",
   "mimetype": "text/x-python",
   "name": "python",
   "nbconvert_exporter": "python",
   "pygments_lexer": "ipython3",
   "version": "3.7.12"
  },
  "vscode": {
   "interpreter": {
    "hash": "b311b5e2c1aaa04d48066871c65b4e8ce80fb760bb38a0437727056581097150"
   }
  }
 },
 "nbformat": 4,
 "nbformat_minor": 4
}
