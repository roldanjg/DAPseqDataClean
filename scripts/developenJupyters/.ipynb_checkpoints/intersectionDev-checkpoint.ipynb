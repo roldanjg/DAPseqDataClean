{
 "cells": [
  {
   "cell_type": "code",
   "execution_count": 1,
   "metadata": {},
   "outputs": [],
   "source": [
    "from cdmanager import cd\n",
    "import os\n",
    "from pathlib import Path\n",
    "import pandas as pd\n",
    "import shutil\n",
    "import subprocess\n",
    "from utilpipeline import (\n",
    "    performIntersectLoops,\n",
    "    manageFolderLocationIntersects,\n",
    "    mergeResultsAmplifiedDirect\n",
    ")\n",
    "\n",
    "\n",
    "ids_file = '../data/commonData/id_intersect_loops.csv'\n",
    "working_folder = '/home/joaquin/projects/methylation/data/'\n",
    "\n",
    "idsDf = pd.read_csv(\n",
    "            ids_file,\n",
    "            names=['folder','id', 'tf', 'loop']\n",
    "                    )\n",
    "\n",
    "with cd(working_folder):\n",
    "    for index, id in idsDf.iterrows():\n",
    "        targetFolder = os.path.join(id.folder, id.tf, id.loop)\n",
    "\n",
    "        performIntersectLoops(targetFolder)\n",
    "        # manageFolderLocationIntersects(intersectsFolder, targetFolder)\n",
    "        # mergeResultsAmplifiedDirect(intersectsFolder, experimentTarget)\n",
    "\n",
    "\n",
    "\n"
   ]
  },
  {
   "cell_type": "code",
   "execution_count": 7,
   "metadata": {},
   "outputs": [],
   "source": [
    "import pandas as pd\n",
    "\n",
    "loco = pd.read_csv('zerobased.bed', sep='\\t', names=['chrn', 'starr', 'end', 'treatment'])\n",
    "loco = loco.sort_values(['chrn','starr'])\n"
   ]
  },
  {
   "cell_type": "code",
   "execution_count": 8,
   "metadata": {},
   "outputs": [],
   "source": [
    " loco.to_csv('sortedbueno.bed', sep='\\t', index=False)"
   ]
  },
  {
   "cell_type": "code",
   "execution_count": 3,
   "metadata": {},
   "outputs": [
    {
     "name": "stdout",
     "output_type": "stream",
     "text": [
      "------ InputMock1h  Input/amplified/1/Mock\n",
      "------ InputMock6h  Input/amplified/6/Mock\n",
      "------ InputMock24h  Input/amplified/24/Mock\n",
      "------ InputJA1h  Input/amplified/1/JA\n",
      "------ InputJA6h  Input/amplified/6/JA\n",
      "------ InputJA24h  Input/amplified/24/JA\n",
      "------ InputACC1h  Input/amplified/1/ACC\n",
      "------ re-specifying  Please\n",
      "------ InputACC24h  Input/amplified/24/ACC\n",
      "------ MYC3MBP1  MYC3/direct/1/Mock\n",
      "------ MYC3MBP2  MYC3/direct/6/Mock\n",
      "------ MYC3MBP3  MYC3/direct/24/Mock\n",
      "------ MYC3MBP4  MYC3/amplified/1/Mock\n",
      "------ MYC3MBP5  MYC3/amplified/6/Mock\n",
      "------ MYC3MBP6  MYC3/amplified/24/Mock\n",
      "------ MYC3MBP7  MYC3/direct/1/JA\n",
      "------ MYC3MBP8  MYC3/direct/6/JA\n",
      "------ MYC3MBP9  MYC3/direct/24/JA\n",
      "------ MYC3MBP10  MYC3/amplified/1/JA\n",
      "------ MYC3MBP11  MYC3/amplified/6/JA\n",
      "------ MYC3MBP12  MYC3/amplified/24/JA\n",
      "------ MYC3MBP13  MYC3/direct/1/ACC\n",
      "------ MYC3MBP14  MYC3/direct/6/ACC\n",
      "------ MYC3MBP15  MYC3/direct/24/ACC\n",
      "------ MYC3MBP16  MYC3/amplified/1/ACC\n",
      "------ MYC3MBP17  MYC3/amplified/6/ACC\n",
      "------ MYC3MBP18  MYC3/amplified/24/ACC\n",
      "------ MYCH7MBP1  MYCH7/direct/1/Mock\n",
      "------ MYCH7MBP2  MYCH7/direct/6/Mock\n",
      "------ MYCH7MBP3  MYCH7/direct/24/Mock\n",
      "------ MYCH7MBP4  MYCH7/amplified/1/Mock\n",
      "------ MYCH7MBP5  MYCH7/amplified/6/Mock\n",
      "------ MYCH7MBP6  MYCH7/amplified/24/Mock\n",
      "------ MYCH7MBP7  MYCH7/direct/1/JA\n",
      "------ MYCH7MBP8  MYCH7/direct/6/JA\n",
      "------ MYCH7MBP9  MYCH7/direct/24/JA\n",
      "------ MYCH7MBP10  MYCH7/amplified/1/JA\n",
      "------ MYCH7MBP11  MYCH7/amplified/6/JA\n",
      "------ MYCH7MBP12  MYCH7/amplified/24/JA\n",
      "------ MYCH7MBP13  MYCH7/direct/1/ACC\n",
      "------ MYCH7MBP14  MYCH7/direct/6/ACC\n",
      "------ MYCH7MBP15  MYCH7/direct/24/ACC\n",
      "------ MYCH7MBP16  MYCH7/amplified/1/ACC\n",
      "------ MYCH7MBP17  MYCH7/amplified/6/ACC\n",
      "------ MYCH7MBP18  MYCH7/amplified/24/ACC\n"
     ]
    }
   ],
   "source": [
    "import re\n",
    "import time\n",
    "with open('DAPseqAlignmentREP4.REPORT.txt', 'r') as summary:\n",
    "    for line in summary:\n",
    "        if 'Doing Trim galore in' in line:\n",
    "            index_name = line.strip().split(' ')[-1]\n",
    "            representative_name = line.strip().split(' ')[-3]\n",
    "            print('------',index_name,'', representative_name)\n",
    "        if 'Bowtie2 errors if any' in line:\n",
    "            alignment = re.search(r\"b\\'(.*)\\'\", line)\n",
    "            try:  \n",
    "                aligment_result = alignment.group(1)\n",
    "                aligment_result = aligment_result.split('\\\\n')\n",
    "                with open('summaryDAPseqAlignmentREP4.REPORT..txt', 'a+') as cleanedsummary:\n",
    "                    cleanedsummary.write(\n",
    "                        f'{index_name}\\t{representative_name}-------\\n'\n",
    "                    )\n",
    "                    for infoline in aligment_result:\n",
    "                        if 'overall alignment rate'  in infoline:\n",
    "                            cleanedsummary.write(\n",
    "                            f'{infoline}\\n'\n",
    "                            )\n",
    "                        if 'reads'  in infoline:\n",
    "                            cleanedsummary.write(\n",
    "                            f'{infoline}\\n'\n",
    "                            )\n",
    "                        \n",
    "            except:\n",
    "                print(line)\n",
    "                "
   ]
  }
 ],
 "metadata": {
  "kernelspec": {
   "display_name": "Python 3",
   "language": "python",
   "name": "python3"
  },
  "language_info": {
   "codemirror_mode": {
    "name": "ipython",
    "version": 3
   },
   "file_extension": ".py",
   "mimetype": "text/x-python",
   "name": "python",
   "nbconvert_exporter": "python",
   "pygments_lexer": "ipython3",
   "version": "3.7.12"
  }
 },
 "nbformat": 4,
 "nbformat_minor": 4
}
