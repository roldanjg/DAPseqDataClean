{
 "cells": [
  {
   "cell_type": "code",
   "execution_count": 23,
   "metadata": {},
   "outputs": [
    {
     "name": "stdout",
     "output_type": "stream",
     "text": [
      "MYC3 direct 1 Mock\n",
      "MYC3 direct 1 JA\n",
      "MYC3 direct 1 ACC\n",
      "MYC3 direct 6 Mock\n",
      "MYC3 direct 6 JA\n",
      "MYC3 direct 6 ACC\n",
      "MYC3 direct 24 Mock\n",
      "MYC3 direct 24 JA\n",
      "MYC3 direct 24 ACC\n",
      "MYCH7 direct 1 Mock\n",
      "MYCH7 direct 1 JA\n",
      "MYCH7 direct 1 ACC\n",
      "MYCH7 direct 6 Mock\n",
      "MYCH7 direct 6 JA\n",
      "MYCH7 direct 6 ACC\n",
      "MYCH7 direct 24 Mock\n",
      "MYCH7 direct 24 JA\n",
      "MYCH7 direct 24 ACC\n",
      "MYC3 amplified 1 Mock\n",
      "MYC3 amplified 1 JA\n",
      "MYC3 amplified 1 ACC\n",
      "MYC3 amplified 6 Mock\n",
      "MYC3 amplified 6 JA\n",
      "MYC3 amplified 6 ACC\n",
      "MYC3 amplified 24 Mock\n",
      "MYC3 amplified 24 JA\n",
      "MYC3 amplified 24 ACC\n",
      "MYCH7 amplified 1 Mock\n",
      "MYCH7 amplified 1 JA\n",
      "MYCH7 amplified 1 ACC\n",
      "MYCH7 amplified 6 Mock\n",
      "MYCH7 amplified 6 JA\n",
      "MYCH7 amplified 6 ACC\n",
      "MYCH7 amplified 24 Mock\n",
      "MYCH7 amplified 24 JA\n",
      "MYCH7 amplified 24 ACC\n",
      "Input amplified 1 Mock\n",
      "Input amplified 1 JA\n",
      "Input amplified 1 ACC\n",
      "Input amplified 6 Mock\n",
      "Input amplified 6 JA\n",
      "Input amplified 6 ACC\n",
      "Input amplified 24 Mock\n",
      "Input amplified 24 JA\n",
      "Input amplified 24 ACC\n",
      "ERF1 direct 1 Mock\n",
      "ERF1 direct 1 JA\n",
      "ERF1 direct 1 ACC\n",
      "ERF1 direct 6 Mock\n",
      "ERF1 direct 6 JA\n",
      "ERF1 direct 6 ACC\n",
      "ERF1 direct 24 Mock\n",
      "ERF1 direct 24 JA\n",
      "ERF1 direct 24 ACC\n",
      "ERF15 direct 1 Mock\n",
      "ERF15 direct 1 JA\n",
      "ERF15 direct 1 ACC\n",
      "ERF15 direct 6 Mock\n",
      "ERF15 direct 6 JA\n",
      "ERF15 direct 6 ACC\n",
      "ERF15 direct 24 Mock\n",
      "ERF15 direct 24 JA\n",
      "ERF15 direct 24 ACC\n",
      "ERF1 amplified 1 Mock\n",
      "ERF1 amplified 1 JA\n",
      "ERF1 amplified 1 ACC\n",
      "ERF1 amplified 6 Mock\n",
      "ERF1 amplified 6 JA\n",
      "ERF1 amplified 6 ACC\n",
      "ERF1 amplified 24 Mock\n",
      "ERF1 amplified 24 JA\n",
      "ERF1 amplified 24 ACC\n",
      "ERF15 amplified 1 Mock\n",
      "ERF15 amplified 1 JA\n",
      "ERF15 amplified 1 ACC\n",
      "ERF15 amplified 6 Mock\n",
      "ERF15 amplified 6 JA\n",
      "ERF15 amplified 6 ACC\n",
      "ERF15 amplified 24 Mock\n",
      "ERF15 amplified 24 JA\n",
      "ERF15 amplified 24 ACC\n"
     ]
    }
   ],
   "source": [
    "import pandas as pd\n",
    "from pathlib import Path\n",
    "import os\n",
    "class cd:\n",
    "    \"\"\"Context manager for changing the current working directory\"\"\"\n",
    "\n",
    "    def __init__(self, newPath):\n",
    "        self.newPath = os.path.expanduser(newPath)\n",
    "\n",
    "    def __enter__(self):\n",
    "        self.savedPath = os.getcwd()\n",
    "        os.chdir(self.newPath)\n",
    "\n",
    "    def __exit__(self, etype, value, traceback):\n",
    "        os.chdir(self.savedPath)\n",
    "\n",
    "with cd('../X204SC20123063-Z01-F001/'):\n",
    "    for a, x, y in os.walk('.'):\n",
    "        all_folders = x\n",
    "        break\n",
    "with open('ids_data_metilation.csv', 'r') as samplesOntology:\n",
    "    idsDf = pd.read_csv(samplesOntology, names=['id', 'tf', 'type', 'time', 'tratement'])\n",
    "with cd('prueba/'):\n",
    "    for index, id in idsDf.iterrows():\n",
    "        print(id.tf, str(id.type), str(id.time), id.tratement)\n",
    "        tree = os.path.join(id.tf, str(id.type), str(id.time), id.tratement)\n",
    "        Path(tree).mkdir(parents=True, exist_ok=True)\n",
    "        path1 = os.path.join(self.common_files, file)\n",
    "        path2 = os.path.join(base, str(i), fore, file)\n",
    "        shutil.copy(path1, path2)"
   ]
  },
  {
   "cell_type": "code",
   "execution_count": null,
   "metadata": {},
   "outputs": [],
   "source": []
  },
  {
   "cell_type": "markdown",
   "metadata": {},
   "source": [
    "<h5>qualityCheckTrimGalore function development</h5>"
   ]
  },
  {
   "cell_type": "code",
   "execution_count": 6,
   "metadata": {},
   "outputs": [
    {
     "name": "stdout",
     "output_type": "stream",
     "text": [
      ">>Per base sequence quality\tpass\n",
      "\n"
     ]
    }
   ],
   "source": [
    "import re\n",
    "with open('fastqc_data.txt', 'r') as report:\n",
    "    for line in report:\n",
    "        for line in report:\n",
    "            if re.match(r'^>>Per base sequence quality\\tpass',line):\n",
    "                print(line)\n",
    "                readTwopass = True"
   ]
  },
  {
   "cell_type": "markdown",
   "metadata": {},
   "source": [
    "**split genome in chrs**\n"
   ]
  },
  {
   "cell_type": "code",
   "execution_count": 2,
   "metadata": {},
   "outputs": [
    {
     "ename": "FileNotFoundError",
     "evalue": "[Errno 2] No such file or directory: '0.fa'",
     "output_type": "error",
     "traceback": [
      "\u001b[1;31m---------------------------------------------------------------------------\u001b[0m",
      "\u001b[1;31mFileNotFoundError\u001b[0m                         Traceback (most recent call last)",
      "\u001b[1;32m<ipython-input-2-54d952a6f741>\u001b[0m in \u001b[0;36m<module>\u001b[1;34m\u001b[0m\n\u001b[0;32m      4\u001b[0m \u001b[1;33m\u001b[0m\u001b[0m\n\u001b[0;32m      5\u001b[0m \u001b[1;32mfor\u001b[0m \u001b[0mnumber\u001b[0m\u001b[1;33m,\u001b[0m\u001b[0mchrm\u001b[0m \u001b[1;32min\u001b[0m \u001b[0menumerate\u001b[0m\u001b[1;33m(\u001b[0m\u001b[0mrecord\u001b[0m\u001b[1;33m)\u001b[0m\u001b[1;33m:\u001b[0m\u001b[1;33m\u001b[0m\u001b[1;33m\u001b[0m\u001b[0m\n\u001b[1;32m----> 6\u001b[1;33m     \u001b[1;32mwith\u001b[0m \u001b[0mopen\u001b[0m\u001b[1;33m(\u001b[0m\u001b[0mstr\u001b[0m\u001b[1;33m(\u001b[0m\u001b[0mnumber\u001b[0m\u001b[1;33m)\u001b[0m\u001b[1;33m+\u001b[0m\u001b[1;34m'.fa'\u001b[0m\u001b[1;33m)\u001b[0m \u001b[1;32mas\u001b[0m \u001b[0mchrfa\u001b[0m\u001b[1;33m:\u001b[0m\u001b[1;33m\u001b[0m\u001b[1;33m\u001b[0m\u001b[0m\n\u001b[0m\u001b[0;32m      7\u001b[0m         \u001b[0mchrfa\u001b[0m\u001b[1;33m.\u001b[0m\u001b[0mwrite\u001b[0m\u001b[1;33m(\u001b[0m\u001b[0mchrm\u001b[0m\u001b[1;33m)\u001b[0m\u001b[1;33m\u001b[0m\u001b[1;33m\u001b[0m\u001b[0m\n\u001b[0;32m      8\u001b[0m \u001b[1;33m\u001b[0m\u001b[0m\n",
      "\u001b[1;31mFileNotFoundError\u001b[0m: [Errno 2] No such file or directory: '0.fa'"
     ]
    }
   ],
   "source": [
    "from Bio import SeqIO\n",
    "\n",
    "record = SeqIO.read('Athchrs/1.fa', \"fasta\")\n",
    "\n",
    "for number,chrm in enumerate(record):\n",
    "    with open(str(number)+'.fa',) as chrfa:\n",
    "        chrfa.write(chrm)\n",
    "    \n",
    "# import re \n",
    "\n",
    "# with open('Arabidopsis_thaliana.TAIR10.dna.toplevel.fa', 'r') as fullGenome:\n",
    "#     chrNames = ['1', '2', '3', '4', 'Mt', 'Pt']\n",
    "#     for line in fullGenome:\n",
    "#         if '>' in line:"
   ]
  },
  {
   "cell_type": "markdown",
   "metadata": {},
   "source": [
    "**Delete one base pair in sequence**"
   ]
  },
  {
   "cell_type": "code",
   "execution_count": 1,
   "metadata": {},
   "outputs": [],
   "source": [
    "import pandas as pd\n",
    "\n",
    "totalForBox = {}\n",
    "boxs = ['AthGAC.bed', 'AthGCC.bed']\n",
    "\n",
    "for box in boxs:\n",
    "    with open(box, 'r') as boxFile:\n",
    "        boxDf = pd.read_csv(\n",
    "            boxFile, sep='\\t', \n",
    "            names=['chr', 'start', 'end', 'boxname'],\n",
    "        )\n",
    "    boxDf['start'] = boxDf['start'].map(lambda a: int(a) - 1)\n",
    "    boxDf['chr'] = boxDf['chr'].map(lambda a: str(a)[3:]) # to remove the chr tab that we don't want\n",
    "    boxDf.to_csv('boxesCorrect/'+box,sep='\\t', header=False, index=False)"
   ]
  }
 ],
 "metadata": {
  "kernelspec": {
   "display_name": "Python 3 (ipykernel)",
   "language": "python",
   "name": "python3"
  },
  "language_info": {
   "codemirror_mode": {
    "name": "ipython",
    "version": 3
   },
   "file_extension": ".py",
   "mimetype": "text/x-python",
   "name": "python",
   "nbconvert_exporter": "python",
   "pygments_lexer": "ipython3",
   "version": "3.9.15"
  }
 },
 "nbformat": 4,
 "nbformat_minor": 4
}
