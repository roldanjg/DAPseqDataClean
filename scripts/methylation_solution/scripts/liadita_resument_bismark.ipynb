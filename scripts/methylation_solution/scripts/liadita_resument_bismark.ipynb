{
 "cells": [
  {
   "cell_type": "code",
   "execution_count": null,
   "id": "816e01ce",
   "metadata": {},
   "outputs": [],
   "source": [
    "working_folder = '/home/joaquin/projects/methylation/data/bisulfite_rep1_rep2_rep3/finalreps'\n",
    "\n",
    "experimentsClasification = {}\n",
    "for root, dirs, files in os.walk(working_folder):\n",
    "\n",
    "    for file in files:\n",
    "        if file.endswith('CX_report.txt.gz'):\n",
    "            replicate, hour, condition =root.strip().split('/')[-3:]\n",
    "            experimentName = hour+condition\n",
    "            experimentsClasification.setdefault(experimentName, [])\n",
    "            targetMetFilename = root+'/'+file\n",
    "            finalnamedestination = basedmrfolder+'/'+experimentName+replicate+'_CX_report.txt.gz'\n",
    "            outputfile = targetMetFilename[:-3] + 'allThePossiblePeaksnine.tsv'\n",
    "            experimentsClasification[experimentName].append(outputfile)\n",
    "            print(outputfile)\n",
    "            mapMethytilatedCitosine(targetMetFilename,intersection_file,outputfile)\n",
    "\n",
    "            "
   ]
  }
 ],
 "metadata": {
  "kernelspec": {
   "display_name": "Python 3",
   "language": "python",
   "name": "python3"
  },
  "language_info": {
   "codemirror_mode": {
    "name": "ipython",
    "version": 3
   },
   "file_extension": ".py",
   "mimetype": "text/x-python",
   "name": "python",
   "nbconvert_exporter": "python",
   "pygments_lexer": "ipython3",
   "version": "3.7.12"
  }
 },
 "nbformat": 4,
 "nbformat_minor": 5
}
